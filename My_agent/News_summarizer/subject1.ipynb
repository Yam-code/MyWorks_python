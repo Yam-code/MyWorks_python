{
 "cells": [
  {
   "cell_type": "markdown",
   "metadata": {},
   "source": [
    "# **ChatGPT(LangChain)** #\n",
    "本レポートではChatGPTに加えてLangChainを用いることで、段階的な処理を行いながら回答\n",
    "を生成するBotの作成を目指す。今回は最新のAI関連ニュースについての応答を生成するBotを題材にする。\n",
    "\n",
    "1. 決まった一つの処理を行うモデル\n",
    "まず、AI専門ニュースサイト (https://aismiley.co.jp/ai-news_category/generative-ai/) から単一の質問に回答するBotを作成する。\n",
    "初めに、必要なライブラリをインストールする。"
   ]
  },
  {
   "cell_type": "code",
   "execution_count": 22,
   "metadata": {},
   "outputs": [],
   "source": [
    "#!pip install openai langchain llama-index google-search-results faiss-cpu\n",
    "#!pip install nbconvert jupyter_contrib_nbextensions jupyter_nbextensions_configurator notebook\n",
    "#!pip install --upgrade notebook==6.4.12"
   ]
  },
  {
   "cell_type": "code",
   "execution_count": 23,
   "metadata": {},
   "outputs": [],
   "source": [
    "import os\n",
    "# 環境変数をセットする\n",
    "os.environ[\"OPENAI_API_KEY\"] = \"\"\n",
    "os.environ[\"SERP_API_KEY\"] = \"\"\n",
    "\n",
    "SERP_API_KEY = os.environ[\"SERP_API_KEY\"]"
   ]
  },
  {
   "cell_type": "markdown",
   "metadata": {},
   "source": [
    "まず、AI専門ニュースサイト (https://aismiley.co.jp/ai-news_category/generative-ai/) から文書を取得し、その文書を一定数のトークンの集まりのチャンクに分解する。"
   ]
  },
  {
   "cell_type": "code",
   "execution_count": 24,
   "metadata": {},
   "outputs": [],
   "source": [
    "import re\n",
    "from langchain.document_loaders import WebBaseLoader\n",
    "# ニュースサイトからテキストを取得する\n",
    "loader = WebBaseLoader(\n",
    "\"https://aismiley.co.jp/ai-news_category/generative-ai/\"\n",
    ")\n",
    "documents= loader.load()\n",
    "# 簡易的な前処理を行う\n",
    "documents[0].page_content = re.sub(r\"\\n+\", \"\\n\", documents[0].page_content)"
   ]
  },
  {
   "cell_type": "code",
   "execution_count": 25,
   "metadata": {},
   "outputs": [
    {
     "name": "stdout",
     "output_type": "stream",
     "text": [
      "page_content='生成AI ｜AIsmiley AIニュース｜DXを推進するAIポータルメディア「AIsmiley」\\n \\n \\nDXを推進するAIポータルメディア「AIsmiley」｜ AI製品・サービスの比較・検索サイト\\nサイトの使い方\\n情報提供はこちらから\\n掲載希望の企業様へ\\n\\r\\n                                                            ChatGPT連携サービス                            \\nChatGPT連携サービスTOP\\nチャットボット\\nカスタマー\\nライティング\\nマーケティング\\nテキスト要約\\n議事録作成\\n導入支援\\nリスキリング\\n翻訳\\nプログラミング' metadata={'source': 'https://aismiley.co.jp/ai-news_category/generative-ai/', 'title': '生成AI ｜AIsmiley AIニュース｜DXを推進するAIポータルメディア「AIsmiley」', 'language': 'ja'}\n"
     ]
    }
   ],
   "source": [
    "from langchain.text_splitter import RecursiveCharacterTextSplitter\n",
    "# テキストスプリッターを初期化する\n",
    "text_splitter = RecursiveCharacterTextSplitter(chunk_size=400, chunk_overlap=50)\n",
    "# テキストをチャンクに分割する\n",
    "texts = text_splitter.split_documents(documents)\n",
    "\n",
    "print(texts[0])"
   ]
  },
  {
   "cell_type": "markdown",
   "metadata": {},
   "source": [
    "埋め込みを用いてクエリに最も関連するチャンクを抽出するRetrieverを作成する。"
   ]
  },
  {
   "cell_type": "code",
   "execution_count": 26,
   "metadata": {},
   "outputs": [],
   "source": [
    "from langchain.embeddings import OpenAIEmbeddings\n",
    "from langchain.vectorstores.faiss import FAISS\n",
    "# 埋め込みを初期化する\n",
    "embeddings = OpenAIEmbeddings()\n",
    "# ベクターストアに文書と埋め込みを格納\n",
    "db = FAISS.from_documents(texts, embeddings)\n",
    "retriever = db.as_retriever()"
   ]
  },
  {
   "cell_type": "markdown",
   "metadata": {},
   "source": [
    "Retrieverを用いて、入力されたクエリに関連する該当部分を参照し回答させる。"
   ]
  },
  {
   "cell_type": "code",
   "execution_count": 27,
   "metadata": {},
   "outputs": [
    {
     "name": "stdout",
     "output_type": "stream",
     "text": [
      "最も新しいニュースは、Rapidusがシリコンバレーに新会社を設立し、AI半導体関連の顧客開拓を推進するというものです。\n"
     ]
    }
   ],
   "source": [
    "from langchain.chat_models import ChatOpenAI\n",
    "from langchain.chains import RetrievalQA\n",
    "# LLM ラッパーを読み込む\n",
    "llm = ChatOpenAI(temperature=0, model_name=\"gpt-3.5-turbo\")\n",
    "# チェーンを作り、それを使って質問に答える\n",
    "qa_chain = RetrievalQA.from_chain_type(\n",
    "    llm=llm,\n",
    "    chain_type=\"stuff\",\n",
    "    retriever=retriever,\n",
    "    output_key=\"description_str\")\n",
    "\n",
    "question= \"最も新しいニュースは何ですか？\"\n",
    "print(qa_chain.run(question))"
   ]
  },
  {
   "cell_type": "markdown",
   "metadata": {},
   "source": [
    "# **2. 決まった複数の処理を行うBot** #\n",
    "次に、AI関連ニュースサイトから質問に回答し、その情報の詳細を要約するBotを作成する。\n",
    "まず、最新ニュース情報を入力として、それを詳細に要約するChainを作成する。"
   ]
  },
  {
   "cell_type": "code",
   "execution_count": 28,
   "metadata": {},
   "outputs": [],
   "source": [
    "from langchain import LLMChain, PromptTemplate\n",
    "day_qa_template_ja = \"\"\"文脈情報は以下の通りです。\n",
    "\n",
    "---------------------\n",
    "{description_str}\n",
    "---------------------\n",
    "以前の知識を用いず、この文脈情報で以下の問いに答えてください。:\\\n",
    "\n",
    "文脈情報で言及されたものを詳しく要約してください。\n",
    "\"\"\"\n",
    "day_qa_prompt_template = PromptTemplate(\n",
    "input_variables=[\"description_str\"],\n",
    "template=day_qa_template_ja,\n",
    ")\n",
    "day_qa_chain = LLMChain(llm=llm,\n",
    "                        prompt=day_qa_prompt_template,\n",
    "                        output_key=\"answer_str\")"
   ]
  },
  {
   "cell_type": "markdown",
   "metadata": {},
   "source": [
    "その後、(1)で作成したサイト内で最も新しいニュースを答えるチェーンとその情報を要約させるチェーンを結合する。"
   ]
  },
  {
   "cell_type": "code",
   "execution_count": 29,
   "metadata": {},
   "outputs": [],
   "source": [
    "from langchain.chains import SimpleSequentialChain\n",
    "garbage_qa_chain = SimpleSequentialChain(chains=[qa_chain, day_qa_chain],\n",
    "\n",
    "verbose=True)\n"
   ]
  },
  {
   "cell_type": "code",
   "execution_count": 30,
   "metadata": {},
   "outputs": [
    {
     "name": "stdout",
     "output_type": "stream",
     "text": [
      "\n",
      "\n",
      "\u001b[1m> Entering new SimpleSequentialChain chain...\u001b[0m\n",
      "\u001b[36;1m\u001b[1;3m最も新しいニュースは、Rapidusがシリコンバレーに新会社を設立し、AI半導体関連の顧客開拓を推進するという内容です。\u001b[0m\n",
      "\u001b[33;1m\u001b[1;3mRapidusがシリコンバレーに新会社を設立し、AI半導体関連の顧客開拓を推進するというニュースが最新である。\u001b[0m\n",
      "\n",
      "\u001b[1m> Finished chain.\u001b[0m\n"
     ]
    },
    {
     "data": {
      "text/plain": [
       "'Rapidusがシリコンバレーに新会社を設立し、AI半導体関連の顧客開拓を推進するというニュースが最新である。'"
      ]
     },
     "execution_count": 30,
     "metadata": {},
     "output_type": "execute_result"
    }
   ],
   "source": [
    "garbage_qa_chain.run(question)"
   ]
  },
  {
   "cell_type": "markdown",
   "metadata": {},
   "source": [
    "# **3. 自由に与えられたツールを使って回答するBot** #\n",
    "最後に、インターネットを自由に検索し、最新のニュースとその要約を回答するBotを作成する。\n",
    "このためにAgentと呼ばれる機能を利用する。\n",
    "まず、インターネットを検索する機能を利用するため、SerpAPI https://serpapi.com/ のAPIキーを発行する。"
   ]
  },
  {
   "cell_type": "markdown",
   "metadata": {},
   "source": [
    "次に、エージェントが利用するツールを定義する"
   ]
  },
  {
   "cell_type": "code",
   "execution_count": 31,
   "metadata": {},
   "outputs": [],
   "source": [
    "from langchain import SerpAPIWrapper\n",
    "from langchain.agents import initialize_agent, Tool\n",
    "# 検索するAPIのラッパーを用意する\n",
    "search = SerpAPIWrapper(\n",
    "serpapi_api_key=SERP_API_KEY,\n",
    "params = {\"engine\": \"bing\",\"gl\": \"jp\",\"hl\": \"ja\"}\n",
    ")\n",
    "\n",
    "\"\"\"\n",
    "list = []\n",
    "def memorize():\n",
    "    list.append(\"{summarizedText}\")\n",
    "    return\n",
    "\"\"\"\n",
    "\n",
    "# ツールにエージェントが利用する機能を格納する\n",
    "tools = [\n",
    "Tool(\n",
    "name=\"Search\",\n",
    "func=search.run,\n",
    "description=\"useful for when you need to answer questions what details about input text\"\n",
    "),\n",
    "Tool(\n",
    "    name=\"Summarize\",\n",
    "    func=day_qa_chain.run,\n",
    "    description=\"useful for summarizing text you have searched for\"\n",
    ")\n",
    "]"
   ]
  },
  {
   "cell_type": "markdown",
   "metadata": {},
   "source": [
    "次にエージェントがどのように思考するかを示すプロンプトを作成する\n",
    "備考:安定した推論を行うため、英語でのプロンプトにしている"
   ]
  },
  {
   "cell_type": "code",
   "execution_count": 32,
   "metadata": {},
   "outputs": [],
   "source": [
    "# エージェントが利用するプロンプトを作成する\n",
    "template = \"\"\"Must Answer the following questions.You have access to the following tools:\n",
    "{tools}\n",
    "Use the following format:\n",
    "Question: the input question you must answer\n",
    "Thought: you should always think about what to do\n",
    "Action: the action to take, should be one of [{tool_names}]\n",
    "Action Input: the input to the action\n",
    "Observation: the result of the action\n",
    "... (this Thought/Action/Action Input/Observation can repeat N times)\n",
    "Thought: I now know the final answer\n",
    "Final Answer (in Japanese): the final answer to the original input question in Japanese\n",
    "Question: {input}\n",
    "{agent_scratchpad}\"\"\""
   ]
  },
  {
   "cell_type": "code",
   "execution_count": 33,
   "metadata": {},
   "outputs": [],
   "source": [
    "from langchain.prompts import BaseChatPromptTemplate\n",
    "from langchain.schema import HumanMessage\n",
    "from typing import List, Union\n",
    "# エージェントのプロンプトのテンプレートを定義する\n",
    "class CustomPromptTemplate(BaseChatPromptTemplate):\n",
    "    template: str\n",
    "    tools: List[Tool]\n",
    "    def format_messages(self, **kwargs) -> str:\n",
    "        intermediate_steps = kwargs.pop(\"intermediate_steps\")\n",
    "        thoughts = \"\"\n",
    "        for action, observation in intermediate_steps:\n",
    "            thoughts += action.log\n",
    "            thoughts += f\"\\nObservation: {observation}\\nThought: \"\n",
    "        kwargs[\"agent_scratchpad\"] = thoughts\n",
    "        kwargs[\"tools\"] = \"\\n\".join([f\"{tool.name}: {tool.description}\" for tool in self.tools])\n",
    "        kwargs[\"tool_names\"] = \", \".join([tool.name for tool in self.tools])\n",
    "        formatted = self.template.format(**kwargs)\n",
    "        return [HumanMessage(content=formatted)]\n",
    "prompt = CustomPromptTemplate(\n",
    "    template=template,\n",
    "    tools=tools,\n",
    "    input_variables=[\"input\", \"intermediate_steps\"]\n",
    ")\n",
    "\n"
   ]
  },
  {
   "cell_type": "markdown",
   "metadata": {},
   "source": [
    "エージェントの出力を追跡するパーサーという機能を作成する"
   ]
  },
  {
   "cell_type": "code",
   "execution_count": 34,
   "metadata": {},
   "outputs": [],
   "source": [
    "from langchain.agents import AgentOutputParser\n",
    "from langchain.schema import AgentAction, AgentFinish, HumanMessage\n",
    "# エージェントの出力のパーサーを作成する\n",
    "class CustomOutputParser(AgentOutputParser):\n",
    "    def parse(self, llm_output: str) -> Union[AgentAction, AgentFinish]:\n",
    "        if \"Final Answer (in Japanese):\" in llm_output:\n",
    "            return AgentFinish(\n",
    "                return_values={\n",
    "                \"output\": llm_output.split(\"Final Answer (in Japanese):\")[-1].strip()\n",
    "                },\n",
    "            log=llm_output,\n",
    "            )\n",
    "        # 行動と行動のための入力をパースする\n",
    "        regex = r\"Action: (.*?)[\\n]*Action Input:[\\s]*(.*)\"\n",
    "        match = re.search(regex, llm_output, re.DOTALL)\n",
    "        if not match:\n",
    "            raise ValueError(f\"Could not parse LLM output: `{llm_output}`\")\n",
    "        action = match.group(1).strip()\n",
    "        action_input = match.group(2)\n",
    "        # 行動と行動のための入力を返す\n",
    "        return AgentAction(tool=action,\n",
    "            tool_input=action_input.strip(\" \").strip('\"'),\n",
    "            log=llm_output)\n",
    "\n",
    "output_parser = CustomOutputParser()"
   ]
  },
  {
   "cell_type": "markdown",
   "metadata": {},
   "source": [
    "以上のものを用いて、自由にツールを用いて与えられたタスクを解こうとするエージェントを設定する"
   ]
  },
  {
   "cell_type": "code",
   "execution_count": 35,
   "metadata": {},
   "outputs": [],
   "source": [
    "from langchain.agents import LLMSingleActionAgent\n",
    "from langchain.agents import AgentExecutor\n",
    "# エージェントを設定する\n",
    "llm_chain = LLMChain(llm=llm, prompt=prompt)\n",
    "tool_names = [tool.name for tool in tools]\n",
    "agent = LLMSingleActionAgent(\n",
    "llm_chain=llm_chain,\n",
    "output_parser=output_parser,\n",
    "stop=[\"\\nObservation:\"],\n",
    "allowed_tools=tool_names\n",
    ")\n",
    "agent_executor = AgentExecutor.from_agent_and_tools(agent=agent,\n",
    "\n",
    "tools=tools,\n",
    "verbose=True)"
   ]
  },
  {
   "cell_type": "code",
   "execution_count": 36,
   "metadata": {},
   "outputs": [
    {
     "name": "stdout",
     "output_type": "stream",
     "text": [
      "\n",
      "\n",
      "\u001b[1m> Entering new AgentExecutor chain...\u001b[0m\n",
      "\u001b[32;1m\u001b[1;3mThought: I need to search for the latest AI-related technological innovations\n",
      "Action: Search\n",
      "Action Input: Latest AI technological innovations\u001b[0m\n",
      "\n",
      "Observation:\u001b[36;1m\u001b[1;3m['Artificial intelligence. AI for everything: 10 Breakthrough Technologies 2024. Generative AI tools like ChatGPT reached mass adoption in record time, and reset the course of an entire industry....', 'Our four big bets for 2023 were that the next big thing in chatbots would be multimodal (check: the most powerful large language models out there, OpenAI’s GPT …', 'August 17, 2023. Contributor: Lori Perri. Innovations in and around generative AI dominate and have transformative impact. The 2023 Gartner Hype Cycle™ for Artificial …', 'The 3 Most Important AI Innovations of 2023. 8 minute read. This video cannot be played because of a technical error. (Error Code: 102006) By Billy Perrigo. …', 'Innovations here include physics-informed AI, composite AI, causal AI, generative AI, foundation models and deep learning. Composite AI refers to the fusion of …', 'In 2022, AI got creative. AI models can now produce remarkably convincing pieces of text, pictures, and even videos, with just a little prompting. It’s only been nine months since OpenAI set...', 'Parky, the Autonomous EV Recharging Robot. CES. While autonomous cars are still in development, other market-ready autonomous mobility tools were on display on CES. The company Evar was at the...']\u001b[0m\n",
      "\u001b[32;1m\u001b[1;3mI need to summarize the information on the latest AI-related technological innovations\n",
      "Action: Summarize\n",
      "Action Input: ['Artificial intelligence. AI for everything: 10 Breakthrough Technologies 2024. Generative AI tools like ChatGPT reached mass adoption in record time, and reset the course of an entire industry....', 'Our four big bets for 2023 were that the next big thing in chatbots would be multimodal (check: the most powerful large language models out there, OpenAI’s GPT …', 'August 17, 2023. Contributor: Lori Perri. Innovations in and around generative AI dominate and have transformative impact. The 2023 Gartner Hype Cycle™ for Artificial …', 'The 3 Most Important AI Innovations of 2023. 8 minute read. This video cannot be played because of a technical error. (Error Code: 102006) By Billy Perrigo. …', 'Innovations here include physics-informed AI, composite AI, causal AI, generative AI, foundation models and deep learning. Composite AI refers to the fusion of …', 'In 2022, AI got creative. AI models can now produce remarkably convincing pieces of text, pictures, and even videos, with just a little prompting. It’s only been nine months since OpenAI set...', 'Parky, the Autonomous EV Recharging Robot. CES. While autonomous cars are still in development, other market-ready autonomous mobility tools were on display on CES. The company Evar was at the...']\u001b[0m\n",
      "\n",
      "Observation:\u001b[33;1m\u001b[1;3m文脈情報では、2023年におけるAIの革新について言及されています。具体的には、生成AI、複合AI、因果AI、基礎モデル、深層学習などの革新が取り上げられており、特に生成AIの進化や影響力に焦点が当てられています。また、大規模な言語モデルであるOpenAIのGPTがチャットボットの次の大きな進化として注目されていることも述べられています。AI技術の進化が産業全体の方向性を変える可能性があることが示唆されています。\u001b[0m\n",
      "\u001b[32;1m\u001b[1;3m私は最新のAI関連の技術革新についての要約を知っています。\n",
      "Final Answer (in Japanese): 2023年のAI関連の技術革新には、生成AI、複合AI、因果AI、基礎モデル、深層学習などが含まれており、特に生成AIの進化が注目されています。\u001b[0m\n",
      "\n",
      "\u001b[1m> Finished chain.\u001b[0m\n"
     ]
    },
    {
     "data": {
      "text/plain": [
       "'2023年のAI関連の技術革新には、生成AI、複合AI、因果AI、基礎モデル、深層学習などが含まれており、特に生成AIの進化が注目されています。'"
      ]
     },
     "execution_count": 36,
     "metadata": {},
     "output_type": "execute_result"
    }
   ],
   "source": [
    "agent_executor.run(\"最新のAI関連の技術革新について3つほど調べ、それぞれを要約してください。\")"
   ]
  },
  {
   "cell_type": "markdown",
   "metadata": {},
   "source": [
    "（３）わかったこと・わからなかったこと（この講義で解消したいこと）\n",
    "    わかったこと：生成AIは様々なサービスやAPIと連携してこそ真価を発揮するということ\n",
    "\n",
    "    わからなかったこと：同じプロンプトでも出力ごとに大きな差ができており、それを抑えるためのプロンプトエンジニアリングが難しかった"
   ]
  }
 ],
 "metadata": {
  "kernelspec": {
   "display_name": ".venv",
   "language": "python",
   "name": "python3"
  },
  "language_info": {
   "codemirror_mode": {
    "name": "ipython",
    "version": 3
   },
   "file_extension": ".py",
   "mimetype": "text/x-python",
   "name": "python",
   "nbconvert_exporter": "python",
   "pygments_lexer": "ipython3",
   "version": "3.9.18"
  }
 },
 "nbformat": 4,
 "nbformat_minor": 2
}
